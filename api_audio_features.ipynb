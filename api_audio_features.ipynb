{
 "cells": [
  {
   "cell_type": "code",
   "execution_count": 1,
   "metadata": {},
   "outputs": [],
   "source": [
    "# imports\n",
    "import pandas as pd\n",
    "from functions import *\n",
    "import requests\n",
    "from dotenv import dotenv_values\n",
    "import time"
   ]
  },
  {
   "cell_type": "code",
   "execution_count": 2,
   "metadata": {},
   "outputs": [],
   "source": [
    "# read in the data\n",
    "songs = pd.read_csv('data/songs_addon.csv', header=0, index_col=False)"
   ]
  },
  {
   "cell_type": "code",
   "execution_count": 3,
   "metadata": {},
   "outputs": [
    {
     "data": {
      "text/plain": [
       "5565"
      ]
     },
     "execution_count": 3,
     "metadata": {},
     "output_type": "execute_result"
    }
   ],
   "source": [
    "# count the rows\n",
    "songs.track_id.count()"
   ]
  },
  {
   "cell_type": "code",
   "execution_count": 4,
   "metadata": {},
   "outputs": [
    {
     "data": {
      "text/html": [
       "<div>\n",
       "<style scoped>\n",
       "    .dataframe tbody tr th:only-of-type {\n",
       "        vertical-align: middle;\n",
       "    }\n",
       "\n",
       "    .dataframe tbody tr th {\n",
       "        vertical-align: top;\n",
       "    }\n",
       "\n",
       "    .dataframe thead th {\n",
       "        text-align: right;\n",
       "    }\n",
       "</style>\n",
       "<table border=\"1\" class=\"dataframe\">\n",
       "  <thead>\n",
       "    <tr style=\"text-align: right;\">\n",
       "      <th></th>\n",
       "      <th>title_x</th>\n",
       "      <th>artist_x</th>\n",
       "      <th>track_id</th>\n",
       "      <th>title_y</th>\n",
       "      <th>artist_y</th>\n",
       "      <th>_merge</th>\n",
       "    </tr>\n",
       "  </thead>\n",
       "  <tbody>\n",
       "    <tr>\n",
       "      <th>0</th>\n",
       "      <td>Stranger (feat. Elliphant)</td>\n",
       "      <td>Peking Duk</td>\n",
       "      <td>0jVPEBd4wyHupkTHwzQRyc</td>\n",
       "      <td>NaN</td>\n",
       "      <td>NaN</td>\n",
       "      <td>left_only</td>\n",
       "    </tr>\n",
       "    <tr>\n",
       "      <th>1</th>\n",
       "      <td>Love$ick (feat. A$AP Rocky)</td>\n",
       "      <td>Mura Masa</td>\n",
       "      <td>7Kq16WtEJzdRSNQgdXsn7Y</td>\n",
       "      <td>NaN</td>\n",
       "      <td>NaN</td>\n",
       "      <td>left_only</td>\n",
       "    </tr>\n",
       "    <tr>\n",
       "      <th>2</th>\n",
       "      <td>Say It (feat. Tove Lo)</td>\n",
       "      <td>Flume</td>\n",
       "      <td>4sQMalN597HdggTu196aL0</td>\n",
       "      <td>NaN</td>\n",
       "      <td>NaN</td>\n",
       "      <td>left_only</td>\n",
       "    </tr>\n",
       "  </tbody>\n",
       "</table>\n",
       "</div>"
      ],
      "text/plain": [
       "                       title_x    artist_x                track_id  title_y  \\\n",
       "0   Stranger (feat. Elliphant)  Peking Duk  0jVPEBd4wyHupkTHwzQRyc      NaN   \n",
       "1  Love$ick (feat. A$AP Rocky)   Mura Masa  7Kq16WtEJzdRSNQgdXsn7Y      NaN   \n",
       "2       Say It (feat. Tove Lo)       Flume  4sQMalN597HdggTu196aL0      NaN   \n",
       "\n",
       "   artist_y     _merge  \n",
       "0       NaN  left_only  \n",
       "1       NaN  left_only  \n",
       "2       NaN  left_only  "
      ]
     },
     "execution_count": 4,
     "metadata": {},
     "output_type": "execute_result"
    }
   ],
   "source": [
    "# show the first rows\n",
    "songs.head(3)"
   ]
  },
  {
   "cell_type": "code",
   "execution_count": 5,
   "metadata": {},
   "outputs": [
    {
     "data": {
      "text/html": [
       "<div>\n",
       "<style scoped>\n",
       "    .dataframe tbody tr th:only-of-type {\n",
       "        vertical-align: middle;\n",
       "    }\n",
       "\n",
       "    .dataframe tbody tr th {\n",
       "        vertical-align: top;\n",
       "    }\n",
       "\n",
       "    .dataframe thead th {\n",
       "        text-align: right;\n",
       "    }\n",
       "</style>\n",
       "<table border=\"1\" class=\"dataframe\">\n",
       "  <thead>\n",
       "    <tr style=\"text-align: right;\">\n",
       "      <th></th>\n",
       "      <th>title_x</th>\n",
       "      <th>artist_x</th>\n",
       "      <th>track_id</th>\n",
       "      <th>title_y</th>\n",
       "      <th>artist_y</th>\n",
       "      <th>_merge</th>\n",
       "    </tr>\n",
       "  </thead>\n",
       "  <tbody>\n",
       "    <tr>\n",
       "      <th>5562</th>\n",
       "      <td>Be My Lover</td>\n",
       "      <td>La Bouche</td>\n",
       "      <td>3YB6nCSuFqNiqOvPtAPK9X</td>\n",
       "      <td>NaN</td>\n",
       "      <td>NaN</td>\n",
       "      <td>left_only</td>\n",
       "    </tr>\n",
       "    <tr>\n",
       "      <th>5563</th>\n",
       "      <td>Be About You</td>\n",
       "      <td>Winston Surfshirt</td>\n",
       "      <td>29HSkfe5ITejb0MXhroHtG</td>\n",
       "      <td>NaN</td>\n",
       "      <td>NaN</td>\n",
       "      <td>left_only</td>\n",
       "    </tr>\n",
       "    <tr>\n",
       "      <th>5564</th>\n",
       "      <td>All Falls Down</td>\n",
       "      <td>Alan Walker, Noah Cyrus, Digital Farm Animals,...</td>\n",
       "      <td>0UBLhedidy1DjSF4ncF5zL</td>\n",
       "      <td>NaN</td>\n",
       "      <td>NaN</td>\n",
       "      <td>left_only</td>\n",
       "    </tr>\n",
       "  </tbody>\n",
       "</table>\n",
       "</div>"
      ],
      "text/plain": [
       "             title_x                                           artist_x  \\\n",
       "5562     Be My Lover                                          La Bouche   \n",
       "5563    Be About You                                  Winston Surfshirt   \n",
       "5564  All Falls Down  Alan Walker, Noah Cyrus, Digital Farm Animals,...   \n",
       "\n",
       "                    track_id  title_y  artist_y     _merge  \n",
       "5562  3YB6nCSuFqNiqOvPtAPK9X      NaN       NaN  left_only  \n",
       "5563  29HSkfe5ITejb0MXhroHtG      NaN       NaN  left_only  \n",
       "5564  0UBLhedidy1DjSF4ncF5zL      NaN       NaN  left_only  "
      ]
     },
     "execution_count": 5,
     "metadata": {},
     "output_type": "execute_result"
    }
   ],
   "source": [
    "# show the last rows\n",
    "songs.tail(3)"
   ]
  },
  {
   "cell_type": "code",
   "execution_count": 6,
   "metadata": {},
   "outputs": [],
   "source": [
    "# create a list with the track id of each song\n",
    "songs_list = songs['track_id'].tolist()"
   ]
  },
  {
   "cell_type": "code",
   "execution_count": 7,
   "metadata": {},
   "outputs": [
    {
     "data": {
      "text/plain": [
       "['0jVPEBd4wyHupkTHwzQRyc',\n",
       " '7Kq16WtEJzdRSNQgdXsn7Y',\n",
       " '4sQMalN597HdggTu196aL0',\n",
       " '2bWrml86uwGVvznX8KKtwx',\n",
       " '4rex1k9pBVFaIVKBBssZzi']"
      ]
     },
     "execution_count": 7,
     "metadata": {},
     "output_type": "execute_result"
    }
   ],
   "source": [
    "# show the first 5\n",
    "songs_list[0:5]"
   ]
  },
  {
   "cell_type": "code",
   "execution_count": 8,
   "metadata": {},
   "outputs": [
    {
     "data": {
      "text/plain": [
       "['5MhsZlmKJG6X5kTHkdwC4B',\n",
       " '0e9bLw658CErvV0g3byHHR',\n",
       " '3YB6nCSuFqNiqOvPtAPK9X',\n",
       " '29HSkfe5ITejb0MXhroHtG',\n",
       " '0UBLhedidy1DjSF4ncF5zL']"
      ]
     },
     "execution_count": 8,
     "metadata": {},
     "output_type": "execute_result"
    }
   ],
   "source": [
    "# show the last 5\n",
    "songs_list[5560:5565]"
   ]
  },
  {
   "cell_type": "code",
   "execution_count": 14,
   "metadata": {},
   "outputs": [
    {
     "name": "stdout",
     "output_type": "stream",
     "text": [
      "{'access_token': 'BQBhnA83o2Fhwq94YsVSnfm6gmmp7Bb4u9GVwqxcvyJF8Mp3c4BjZ-xdpoyaUU8iikNbD6TpC8z11FyvDQm5UMLpElU3IW4QrN03URCek7N-3f-89o4', 'token_type': 'Bearer', 'expires_in': 3600}\n"
     ]
    }
   ],
   "source": [
    "# get authorization token valid for one hour\n",
    "client_id = dotenv_values('.env')['spotify_id']\n",
    "client_secret = dotenv_values('.env')['spotify_secret']\n",
    "\n",
    "data = {\n",
    "    'grant_type': 'client_credentials',\n",
    "    'client_id': client_id,\n",
    "    'client_secret': client_secret,\n",
    "}\n",
    "response = requests.post('https://accounts.spotify.com/api/token', data=data)\n",
    "print(response.json())"
   ]
  },
  {
   "cell_type": "code",
   "execution_count": 15,
   "metadata": {},
   "outputs": [
    {
     "name": "stdout",
     "output_type": "stream",
     "text": [
      "{'audio_features': [{'danceability': 0.773, 'energy': 0.623, 'key': 6, 'loudness': -6.173, 'mode': 0, 'speechiness': 0.0377, 'acousticness': 0.22, 'instrumentalness': 0, 'liveness': 0.389, 'valence': 0.714, 'tempo': 129.962, 'type': 'audio_features', 'id': '2nYpbaLykC2cjU8Yt5KF1v', 'uri': 'spotify:track:2nYpbaLykC2cjU8Yt5KF1v', 'track_href': 'https://api.spotify.com/v1/tracks/2nYpbaLykC2cjU8Yt5KF1v', 'analysis_url': 'https://api.spotify.com/v1/audio-analysis/2nYpbaLykC2cjU8Yt5KF1v', 'duration_ms': 208280, 'time_signature': 4}]}\n"
     ]
    }
   ],
   "source": [
    "# run a test request for one song\n",
    "token = 'Bearer' + ' ' + 'BQBhnA83o2Fhwq94YsVSnfm6gmmp7Bb4u9GVwqxcvyJF8Mp3c4BjZ-xdpoyaUU8iikNbD6TpC8z11FyvDQm5UMLpElU3IW4QrN03URCek7N-3f-89o4'\n",
    "headers = {\n",
    "    'Authorization': token,\n",
    "}\n",
    "final_url = 'https://api.spotify.com/v1/audio-features?ids=' + '2nYpbaLykC2cjU8Yt5KF1v'\n",
    "response = requests.get(final_url, headers=headers)\n",
    "print(response.json())"
   ]
  },
  {
   "cell_type": "code",
   "execution_count": 16,
   "metadata": {},
   "outputs": [],
   "source": [
    "# run reuqest for 564 songs\n",
    "url = 'https://api.spotify.com/v1/audio-features?ids='\n",
    "updated_songs = pd.DataFrame([])\n",
    "steps = songs_list[5001:5565]\n",
    "for i in steps:\n",
    "    url_f = url + i\n",
    "    r = requests.get(url_f, headers=headers)\n",
    "    df_temp = r.json()\n",
    "    df_temp_2 = pd.json_normalize(df_temp, \n",
    "                                        sep=\"_\", \n",
    "                                        record_path=\"audio_features\", \n",
    "                                        meta=[[\"danceability\",\"energy\",\"key\",\"loudness\",\"mode\",\"speechiness\",\"acousticness\",\"instrumentalness\",\"liveness\",\"valence\",\n",
    "                                        \"tempo\",\"duration_ms\",\"time_signature\"]], \n",
    "                                        errors='ignore')\n",
    "    updated_songs = pd.concat([updated_songs, df_temp_2], ignore_index=True)\n",
    "    time.sleep(2)"
   ]
  },
  {
   "cell_type": "code",
   "execution_count": 17,
   "metadata": {},
   "outputs": [
    {
     "data": {
      "text/plain": [
       "564"
      ]
     },
     "execution_count": 17,
     "metadata": {},
     "output_type": "execute_result"
    }
   ],
   "source": [
    "# count the returned \n",
    "updated_songs.id.count()"
   ]
  },
  {
   "cell_type": "code",
   "execution_count": 18,
   "metadata": {},
   "outputs": [],
   "source": [
    "# export the data\n",
    "updated_songs.to_csv('C:/Users/xxx/DA/neuefische/capstone/data/songs2_06.csv', index=False)"
   ]
  }
 ],
 "metadata": {
  "kernelspec": {
   "display_name": "nf_sql",
   "language": "python",
   "name": "python3"
  },
  "language_info": {
   "codemirror_mode": {
    "name": "ipython",
    "version": 3
   },
   "file_extension": ".py",
   "mimetype": "text/x-python",
   "name": "python",
   "nbconvert_exporter": "python",
   "pygments_lexer": "ipython3",
   "version": "3.9.17"
  }
 },
 "nbformat": 4,
 "nbformat_minor": 2
}
