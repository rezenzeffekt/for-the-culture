{
 "cells": [
  {
   "cell_type": "code",
   "execution_count": 1,
   "metadata": {},
   "outputs": [],
   "source": [
    "# imports\n",
    "import pandas as pd\n",
    "from functions import *\n",
    "import requests\n",
    "from dotenv import dotenv_values\n",
    "import time"
   ]
  },
  {
   "cell_type": "code",
   "execution_count": 2,
   "metadata": {},
   "outputs": [],
   "source": [
    "# read in the data\n",
    "songs = pd.read_csv('data/d_t100_5c_songs.csv', header=0, index_col=False)"
   ]
  },
  {
   "cell_type": "code",
   "execution_count": 3,
   "metadata": {},
   "outputs": [
    {
     "data": {
      "text/html": [
       "<div>\n",
       "<style scoped>\n",
       "    .dataframe tbody tr th:only-of-type {\n",
       "        vertical-align: middle;\n",
       "    }\n",
       "\n",
       "    .dataframe tbody tr th {\n",
       "        vertical-align: top;\n",
       "    }\n",
       "\n",
       "    .dataframe thead th {\n",
       "        text-align: right;\n",
       "    }\n",
       "</style>\n",
       "<table border=\"1\" class=\"dataframe\">\n",
       "  <thead>\n",
       "    <tr style=\"text-align: right;\">\n",
       "      <th></th>\n",
       "      <th>title</th>\n",
       "      <th>artist</th>\n",
       "      <th>track_id</th>\n",
       "    </tr>\n",
       "  </thead>\n",
       "  <tbody>\n",
       "    <tr>\n",
       "      <th>13142</th>\n",
       "      <td>No Hay Nadie Más</td>\n",
       "      <td>Sebastian Yatra</td>\n",
       "      <td>0U8WdltGpu3OC0ma9yLmjX</td>\n",
       "    </tr>\n",
       "    <tr>\n",
       "      <th>13143</th>\n",
       "      <td>Higher We Go - Intro</td>\n",
       "      <td>Migos</td>\n",
       "      <td>43dOwOq0mB4i6j4SpcSkqC</td>\n",
       "    </tr>\n",
       "    <tr>\n",
       "      <th>13144</th>\n",
       "      <td>Too Much Jewelry</td>\n",
       "      <td>Migos</td>\n",
       "      <td>4loAa1lBkE83qJXU1ddmCV</td>\n",
       "    </tr>\n",
       "  </tbody>\n",
       "</table>\n",
       "</div>"
      ],
      "text/plain": [
       "                      title           artist                track_id\n",
       "13142      No Hay Nadie Más  Sebastian Yatra  0U8WdltGpu3OC0ma9yLmjX\n",
       "13143  Higher We Go - Intro            Migos  43dOwOq0mB4i6j4SpcSkqC\n",
       "13144      Too Much Jewelry            Migos  4loAa1lBkE83qJXU1ddmCV"
      ]
     },
     "execution_count": 3,
     "metadata": {},
     "output_type": "execute_result"
    }
   ],
   "source": [
    "# show the last rows\n",
    "songs.tail(3)"
   ]
  },
  {
   "cell_type": "code",
   "execution_count": 4,
   "metadata": {},
   "outputs": [],
   "source": [
    "# create a list with the track id of each song\n",
    "songs_list = songs['track_id'].tolist()"
   ]
  },
  {
   "cell_type": "code",
   "execution_count": 5,
   "metadata": {},
   "outputs": [
    {
     "data": {
      "text/plain": [
       "['5knuzwU65gJK7IF5yJsuaW',\n",
       " '0JiVRyTJcJnmlwCZ854K4p',\n",
       " '2nYpbaLykC2cjU8Yt5KF1v',\n",
       " '5aAx2yezTd8zXrkmtKl66Z',\n",
       " '7BKLCZ1jbUBVqRi2FVlTVw']"
      ]
     },
     "execution_count": 5,
     "metadata": {},
     "output_type": "execute_result"
    }
   ],
   "source": [
    "# show the first 5\n",
    "songs_list[0:5]"
   ]
  },
  {
   "cell_type": "code",
   "execution_count": 6,
   "metadata": {},
   "outputs": [
    {
     "data": {
      "text/plain": [
       "['4jbmgIyjGoXjY01XxatOx6',\n",
       " '7ybzAh1zEWoVn880qZ15XL',\n",
       " '0U8WdltGpu3OC0ma9yLmjX',\n",
       " '43dOwOq0mB4i6j4SpcSkqC',\n",
       " '4loAa1lBkE83qJXU1ddmCV']"
      ]
     },
     "execution_count": 6,
     "metadata": {},
     "output_type": "execute_result"
    }
   ],
   "source": [
    "# show the last 5\n",
    "songs_list[13140:13145]"
   ]
  },
  {
   "cell_type": "code",
   "execution_count": 7,
   "metadata": {},
   "outputs": [
    {
     "name": "stdout",
     "output_type": "stream",
     "text": [
      "{'access_token': 'BQC90m0P-B2wv_9dVT5ltQbq3JmLkPb56RIPTXjY5s9y8ygTp86x-rVL40WHjDbNgmhAZ0rvT-0RuljrrLrkaH7oZ4uX3rkQKk6eAJFlu7M684xUqEA', 'token_type': 'Bearer', 'expires_in': 3600}\n"
     ]
    }
   ],
   "source": [
    "# get authorization token valid for one hour\n",
    "client_id = dotenv_values('.env')['spotify_id']\n",
    "client_secret = dotenv_values('.env')['spotify_secret']\n",
    "\n",
    "data = {\n",
    "    'grant_type': 'client_credentials',\n",
    "    'client_id': client_id,\n",
    "    'client_secret': client_secret,\n",
    "}\n",
    "response = requests.post('https://accounts.spotify.com/api/token', data=data)\n",
    "print(response.json())"
   ]
  },
  {
   "cell_type": "code",
   "execution_count": 8,
   "metadata": {},
   "outputs": [
    {
     "name": "stdout",
     "output_type": "stream",
     "text": [
      "{'tracks': [{'album': {'album_type': 'album', 'artists': [{'external_urls': {'spotify': 'https://open.spotify.com/artist/7qXzy6c5RWT0XlVQcOBIDG'}, 'href': 'https://api.spotify.com/v1/artists/7qXzy6c5RWT0XlVQcOBIDG', 'id': '7qXzy6c5RWT0XlVQcOBIDG', 'name': 'Mark Forster', 'type': 'artist', 'uri': 'spotify:artist:7qXzy6c5RWT0XlVQcOBIDG'}], 'available_markets': [], 'external_urls': {'spotify': 'https://open.spotify.com/album/3PYi5cqKxVEgc1HTMvzStf'}, 'href': 'https://api.spotify.com/v1/albums/3PYi5cqKxVEgc1HTMvzStf', 'id': '3PYi5cqKxVEgc1HTMvzStf', 'images': [{'height': 640, 'url': 'https://i.scdn.co/image/ab67616d0000b27329cd01a46be6d3b100e22739', 'width': 640}, {'height': 300, 'url': 'https://i.scdn.co/image/ab67616d00001e0229cd01a46be6d3b100e22739', 'width': 300}, {'height': 64, 'url': 'https://i.scdn.co/image/ab67616d0000485129cd01a46be6d3b100e22739', 'width': 64}], 'name': 'TAPE', 'release_date': '2016-06-03', 'release_date_precision': 'day', 'total_tracks': 14, 'type': 'album', 'uri': 'spotify:album:3PYi5cqKxVEgc1HTMvzStf'}, 'artists': [{'external_urls': {'spotify': 'https://open.spotify.com/artist/7qXzy6c5RWT0XlVQcOBIDG'}, 'href': 'https://api.spotify.com/v1/artists/7qXzy6c5RWT0XlVQcOBIDG', 'id': '7qXzy6c5RWT0XlVQcOBIDG', 'name': 'Mark Forster', 'type': 'artist', 'uri': 'spotify:artist:7qXzy6c5RWT0XlVQcOBIDG'}], 'available_markets': [], 'disc_number': 1, 'duration_ms': 208280, 'explicit': False, 'external_ids': {'isrc': 'DEQ321600148'}, 'external_urls': {'spotify': 'https://open.spotify.com/track/2nYpbaLykC2cjU8Yt5KF1v'}, 'href': 'https://api.spotify.com/v1/tracks/2nYpbaLykC2cjU8Yt5KF1v', 'id': '2nYpbaLykC2cjU8Yt5KF1v', 'is_local': False, 'name': 'Chöre', 'popularity': 0, 'preview_url': None, 'track_number': 7, 'type': 'track', 'uri': 'spotify:track:2nYpbaLykC2cjU8Yt5KF1v'}]}\n"
     ]
    }
   ],
   "source": [
    "# run a test request for one song\n",
    "token = 'Bearer' + ' ' + 'BQC90m0P-B2wv_9dVT5ltQbq3JmLkPb56RIPTXjY5s9y8ygTp86x-rVL40WHjDbNgmhAZ0rvT-0RuljrrLrkaH7oZ4uX3rkQKk6eAJFlu7M684xUqEA'\n",
    "headers = {\n",
    "    'Authorization': token,\n",
    "}\n",
    "final_url = 'https://api.spotify.com/v1/tracks?ids=' + '2nYpbaLykC2cjU8Yt5KF1v'\n",
    "response = requests.get(final_url, headers=headers)\n",
    "print(response.json())"
   ]
  },
  {
   "cell_type": "code",
   "execution_count": 9,
   "metadata": {},
   "outputs": [],
   "source": [
    "# run reuqest for 1000 songs\n",
    "url = 'https://api.spotify.com/v1/tracks?ids='\n",
    "updated_songs = pd.DataFrame([])\n",
    "steps = songs_list[3001:4001]\n",
    "for i in steps:\n",
    "    url_f = url + i\n",
    "    r = requests.get(url_f, headers=headers)\n",
    "    df_temp = r.json()\n",
    "    df_temp_2 = pd.json_normalize(df_temp, \n",
    "                                        sep=\"_\", \n",
    "                                        record_path=\"tracks\", \n",
    "                                        meta=['album', ['release_date', 'popularity']], \n",
    "                                        errors='ignore')\n",
    "    updated_songs = pd.concat([updated_songs, df_temp_2], ignore_index=True)\n",
    "    time.sleep(2)"
   ]
  },
  {
   "cell_type": "code",
   "execution_count": 10,
   "metadata": {},
   "outputs": [
    {
     "data": {
      "text/plain": [
       "1000"
      ]
     },
     "execution_count": 10,
     "metadata": {},
     "output_type": "execute_result"
    }
   ],
   "source": [
    "# count the returned \n",
    "updated_songs.id.count()"
   ]
  },
  {
   "cell_type": "code",
   "execution_count": 11,
   "metadata": {},
   "outputs": [
    {
     "name": "stdout",
     "output_type": "stream",
     "text": [
      "/Users/inthesea/Downloads/df.csv\n"
     ]
    }
   ],
   "source": [
    "# export the data\n",
    "save(updated_songs)"
   ]
  }
 ],
 "metadata": {
  "kernelspec": {
   "display_name": "nf_sql",
   "language": "python",
   "name": "python3"
  },
  "language_info": {
   "codemirror_mode": {
    "name": "ipython",
    "version": 3
   },
   "file_extension": ".py",
   "mimetype": "text/x-python",
   "name": "python",
   "nbconvert_exporter": "python",
   "pygments_lexer": "ipython3",
   "version": "3.9.17"
  }
 },
 "nbformat": 4,
 "nbformat_minor": 2
}
