{
 "cells": [
  {
   "cell_type": "code",
   "execution_count": 2,
   "metadata": {},
   "outputs": [],
   "source": [
    "from sklearn import preprocessing\n",
    "import pandas as pd\n",
    "from functions import *"
   ]
  },
  {
   "cell_type": "code",
   "execution_count": 3,
   "metadata": {},
   "outputs": [],
   "source": [
    "# read in the Top100 and Top20 of all 8 countries into 2 dataframes\n",
    "top20 = pd.read_csv('data/Top20_8_countries_backward.csv', header=0, index_col=False)\n",
    "top100 = pd.read_csv('data/Top100_8_countries_backward.csv', header=0, index_col=False)"
   ]
  },
  {
   "cell_type": "code",
   "execution_count": 4,
   "metadata": {},
   "outputs": [],
   "source": [
    "# create 2 new dataframe for the Top100 and Top20 of Japan \n",
    "top20_jp = top20.query('region == \"Japan\"').copy()\n",
    "top100_jp = top100.query('region == \"Japan\"').copy()"
   ]
  },
  {
   "cell_type": "code",
   "execution_count": 5,
   "metadata": {},
   "outputs": [
    {
     "data": {
      "text/plain": [
       "(29155, 8)"
      ]
     },
     "metadata": {},
     "output_type": "display_data"
    },
    {
     "data": {
      "text/plain": [
       "(145790, 8)"
      ]
     },
     "metadata": {},
     "output_type": "display_data"
    }
   ],
   "source": [
    "# show row and column count\n",
    "display(top20_jp.shape, top100_jp.shape)"
   ]
  },
  {
   "cell_type": "code",
   "execution_count": 6,
   "metadata": {},
   "outputs": [
    {
     "data": {
      "text/plain": [
       "<bound method IndexOpsMixin.tolist of Index(['title', 'rank', 'date', 'artist', 'track_id', 'region', 'trend',\n",
       "       'streams'],\n",
       "      dtype='object')>"
      ]
     },
     "execution_count": 6,
     "metadata": {},
     "output_type": "execute_result"
    }
   ],
   "source": [
    "# show column names\n",
    "top20_jp.columns.to_list"
   ]
  },
  {
   "cell_type": "code",
   "execution_count": 8,
   "metadata": {},
   "outputs": [],
   "source": [
    "# split the dataframes\n",
    "top20_jp_streams = top20_jp.copy()\n",
    "top20_jp_rest = top20_jp.copy()\n",
    "top100_jp_streams = top100_jp.copy()\n",
    "top100_jp_rest = top100_jp.copy()"
   ]
  },
  {
   "cell_type": "code",
   "execution_count": 9,
   "metadata": {},
   "outputs": [],
   "source": [
    "# remove duplicated columns for later merge \n",
    "top20_jp_rest.drop('streams', axis=1, inplace=True)\n",
    "top20_jp_streams.drop(['title', 'rank', 'date', 'artist', 'track_id', 'region', 'trend'], axis=1, inplace=True)\n",
    "top100_jp_rest.drop('streams', axis=1, inplace=True)\n",
    "top100_jp_streams.drop(['title', 'rank', 'date', 'artist', 'track_id', 'region', 'trend'], axis=1, inplace=True)"
   ]
  },
  {
   "cell_type": "code",
   "execution_count": 10,
   "metadata": {},
   "outputs": [
    {
     "data": {
      "text/html": [
       "<div>\n",
       "<style scoped>\n",
       "    .dataframe tbody tr th:only-of-type {\n",
       "        vertical-align: middle;\n",
       "    }\n",
       "\n",
       "    .dataframe tbody tr th {\n",
       "        vertical-align: top;\n",
       "    }\n",
       "\n",
       "    .dataframe thead th {\n",
       "        text-align: right;\n",
       "    }\n",
       "</style>\n",
       "<table border=\"1\" class=\"dataframe\">\n",
       "  <thead>\n",
       "    <tr style=\"text-align: right;\">\n",
       "      <th></th>\n",
       "      <th>title</th>\n",
       "      <th>rank</th>\n",
       "      <th>date</th>\n",
       "      <th>artist</th>\n",
       "      <th>track_id</th>\n",
       "      <th>region</th>\n",
       "      <th>trend</th>\n",
       "    </tr>\n",
       "  </thead>\n",
       "  <tbody>\n",
       "    <tr>\n",
       "      <th>40</th>\n",
       "      <td>Closer</td>\n",
       "      <td>1</td>\n",
       "      <td>2017-01-01</td>\n",
       "      <td>The Chainsmokers, Halsey</td>\n",
       "      <td>7BKLCZ1jbUBVqRi2FVlTVw</td>\n",
       "      <td>Japan</td>\n",
       "      <td>SAME_POSITION</td>\n",
       "    </tr>\n",
       "    <tr>\n",
       "      <th>41</th>\n",
       "      <td>I Feel It Coming</td>\n",
       "      <td>2</td>\n",
       "      <td>2017-01-01</td>\n",
       "      <td>The Weeknd, Daft Punk</td>\n",
       "      <td>5GXAXm5YOmYT0kL5jHvYBt</td>\n",
       "      <td>Japan</td>\n",
       "      <td>MOVE_UP</td>\n",
       "    </tr>\n",
       "    <tr>\n",
       "      <th>42</th>\n",
       "      <td>Let Me Love You</td>\n",
       "      <td>3</td>\n",
       "      <td>2017-01-01</td>\n",
       "      <td>DJ Snake, Justin Bieber</td>\n",
       "      <td>4pdPtRcBmOSQDlJ3Fk945m</td>\n",
       "      <td>Japan</td>\n",
       "      <td>MOVE_DOWN</td>\n",
       "    </tr>\n",
       "  </tbody>\n",
       "</table>\n",
       "</div>"
      ],
      "text/plain": [
       "               title  rank        date                    artist  \\\n",
       "40            Closer     1  2017-01-01  The Chainsmokers, Halsey   \n",
       "41  I Feel It Coming     2  2017-01-01     The Weeknd, Daft Punk   \n",
       "42   Let Me Love You     3  2017-01-01   DJ Snake, Justin Bieber   \n",
       "\n",
       "                  track_id region          trend  \n",
       "40  7BKLCZ1jbUBVqRi2FVlTVw  Japan  SAME_POSITION  \n",
       "41  5GXAXm5YOmYT0kL5jHvYBt  Japan        MOVE_UP  \n",
       "42  4pdPtRcBmOSQDlJ3Fk945m  Japan      MOVE_DOWN  "
      ]
     },
     "metadata": {},
     "output_type": "display_data"
    },
    {
     "data": {
      "text/html": [
       "<div>\n",
       "<style scoped>\n",
       "    .dataframe tbody tr th:only-of-type {\n",
       "        vertical-align: middle;\n",
       "    }\n",
       "\n",
       "    .dataframe tbody tr th {\n",
       "        vertical-align: top;\n",
       "    }\n",
       "\n",
       "    .dataframe thead th {\n",
       "        text-align: right;\n",
       "    }\n",
       "</style>\n",
       "<table border=\"1\" class=\"dataframe\">\n",
       "  <thead>\n",
       "    <tr style=\"text-align: right;\">\n",
       "      <th></th>\n",
       "      <th>streams</th>\n",
       "    </tr>\n",
       "  </thead>\n",
       "  <tbody>\n",
       "    <tr>\n",
       "      <th>40</th>\n",
       "      <td>6342.0</td>\n",
       "    </tr>\n",
       "    <tr>\n",
       "      <th>41</th>\n",
       "      <td>5697.0</td>\n",
       "    </tr>\n",
       "    <tr>\n",
       "      <th>42</th>\n",
       "      <td>5149.0</td>\n",
       "    </tr>\n",
       "  </tbody>\n",
       "</table>\n",
       "</div>"
      ],
      "text/plain": [
       "    streams\n",
       "40   6342.0\n",
       "41   5697.0\n",
       "42   5149.0"
      ]
     },
     "metadata": {},
     "output_type": "display_data"
    },
    {
     "data": {
      "text/html": [
       "<div>\n",
       "<style scoped>\n",
       "    .dataframe tbody tr th:only-of-type {\n",
       "        vertical-align: middle;\n",
       "    }\n",
       "\n",
       "    .dataframe tbody tr th {\n",
       "        vertical-align: top;\n",
       "    }\n",
       "\n",
       "    .dataframe thead th {\n",
       "        text-align: right;\n",
       "    }\n",
       "</style>\n",
       "<table border=\"1\" class=\"dataframe\">\n",
       "  <thead>\n",
       "    <tr style=\"text-align: right;\">\n",
       "      <th></th>\n",
       "      <th>title</th>\n",
       "      <th>rank</th>\n",
       "      <th>date</th>\n",
       "      <th>artist</th>\n",
       "      <th>track_id</th>\n",
       "      <th>region</th>\n",
       "      <th>trend</th>\n",
       "    </tr>\n",
       "  </thead>\n",
       "  <tbody>\n",
       "    <tr>\n",
       "      <th>200</th>\n",
       "      <td>Closer</td>\n",
       "      <td>1</td>\n",
       "      <td>2017-01-01</td>\n",
       "      <td>The Chainsmokers, Halsey</td>\n",
       "      <td>7BKLCZ1jbUBVqRi2FVlTVw</td>\n",
       "      <td>Japan</td>\n",
       "      <td>SAME_POSITION</td>\n",
       "    </tr>\n",
       "    <tr>\n",
       "      <th>201</th>\n",
       "      <td>I Feel It Coming</td>\n",
       "      <td>2</td>\n",
       "      <td>2017-01-01</td>\n",
       "      <td>The Weeknd, Daft Punk</td>\n",
       "      <td>5GXAXm5YOmYT0kL5jHvYBt</td>\n",
       "      <td>Japan</td>\n",
       "      <td>MOVE_UP</td>\n",
       "    </tr>\n",
       "    <tr>\n",
       "      <th>202</th>\n",
       "      <td>Let Me Love You</td>\n",
       "      <td>3</td>\n",
       "      <td>2017-01-01</td>\n",
       "      <td>DJ Snake, Justin Bieber</td>\n",
       "      <td>4pdPtRcBmOSQDlJ3Fk945m</td>\n",
       "      <td>Japan</td>\n",
       "      <td>MOVE_DOWN</td>\n",
       "    </tr>\n",
       "  </tbody>\n",
       "</table>\n",
       "</div>"
      ],
      "text/plain": [
       "                title  rank        date                    artist  \\\n",
       "200            Closer     1  2017-01-01  The Chainsmokers, Halsey   \n",
       "201  I Feel It Coming     2  2017-01-01     The Weeknd, Daft Punk   \n",
       "202   Let Me Love You     3  2017-01-01   DJ Snake, Justin Bieber   \n",
       "\n",
       "                   track_id region          trend  \n",
       "200  7BKLCZ1jbUBVqRi2FVlTVw  Japan  SAME_POSITION  \n",
       "201  5GXAXm5YOmYT0kL5jHvYBt  Japan        MOVE_UP  \n",
       "202  4pdPtRcBmOSQDlJ3Fk945m  Japan      MOVE_DOWN  "
      ]
     },
     "metadata": {},
     "output_type": "display_data"
    },
    {
     "data": {
      "text/html": [
       "<div>\n",
       "<style scoped>\n",
       "    .dataframe tbody tr th:only-of-type {\n",
       "        vertical-align: middle;\n",
       "    }\n",
       "\n",
       "    .dataframe tbody tr th {\n",
       "        vertical-align: top;\n",
       "    }\n",
       "\n",
       "    .dataframe thead th {\n",
       "        text-align: right;\n",
       "    }\n",
       "</style>\n",
       "<table border=\"1\" class=\"dataframe\">\n",
       "  <thead>\n",
       "    <tr style=\"text-align: right;\">\n",
       "      <th></th>\n",
       "      <th>streams</th>\n",
       "    </tr>\n",
       "  </thead>\n",
       "  <tbody>\n",
       "    <tr>\n",
       "      <th>200</th>\n",
       "      <td>6342.0</td>\n",
       "    </tr>\n",
       "    <tr>\n",
       "      <th>201</th>\n",
       "      <td>5697.0</td>\n",
       "    </tr>\n",
       "    <tr>\n",
       "      <th>202</th>\n",
       "      <td>5149.0</td>\n",
       "    </tr>\n",
       "  </tbody>\n",
       "</table>\n",
       "</div>"
      ],
      "text/plain": [
       "     streams\n",
       "200   6342.0\n",
       "201   5697.0\n",
       "202   5149.0"
      ]
     },
     "metadata": {},
     "output_type": "display_data"
    }
   ],
   "source": [
    "# check the top of the dataframes\n",
    "display(top20_jp_rest.head(3), top20_jp_streams.head(3), top100_jp_rest.head(3), top100_jp_streams.head(3))"
   ]
  },
  {
   "cell_type": "code",
   "execution_count": 11,
   "metadata": {},
   "outputs": [],
   "source": [
    "# normalizing, scaling the min to 0 and the max to 1\n",
    "scaler = preprocessing.MinMaxScaler()\n",
    "d = scaler.fit_transform(top20_jp_streams)\n",
    "scaled_t20 = pd.DataFrame(d, columns=top20_jp_streams.columns)"
   ]
  },
  {
   "cell_type": "code",
   "execution_count": 12,
   "metadata": {},
   "outputs": [],
   "source": [
    "# the same for the Top100\n",
    "scaler = preprocessing.MinMaxScaler()\n",
    "d = scaler.fit_transform(top100_jp_streams)\n",
    "scaled_t100 = pd.DataFrame(d, columns=top100_jp_streams.columns)"
   ]
  },
  {
   "cell_type": "code",
   "execution_count": 13,
   "metadata": {},
   "outputs": [],
   "source": [
    "# reset the index starting from 0 for the Top100\n",
    "top100_jp_rest.reset_index(drop=True, inplace=True)"
   ]
  },
  {
   "cell_type": "code",
   "execution_count": 14,
   "metadata": {},
   "outputs": [
    {
     "data": {
      "text/html": [
       "<div>\n",
       "<style scoped>\n",
       "    .dataframe tbody tr th:only-of-type {\n",
       "        vertical-align: middle;\n",
       "    }\n",
       "\n",
       "    .dataframe tbody tr th {\n",
       "        vertical-align: top;\n",
       "    }\n",
       "\n",
       "    .dataframe thead th {\n",
       "        text-align: right;\n",
       "    }\n",
       "</style>\n",
       "<table border=\"1\" class=\"dataframe\">\n",
       "  <thead>\n",
       "    <tr style=\"text-align: right;\">\n",
       "      <th></th>\n",
       "      <th>streams</th>\n",
       "    </tr>\n",
       "  </thead>\n",
       "  <tbody>\n",
       "    <tr>\n",
       "      <th>0</th>\n",
       "      <td>0.014273</td>\n",
       "    </tr>\n",
       "    <tr>\n",
       "      <th>1</th>\n",
       "      <td>0.012515</td>\n",
       "    </tr>\n",
       "    <tr>\n",
       "      <th>2</th>\n",
       "      <td>0.011021</td>\n",
       "    </tr>\n",
       "  </tbody>\n",
       "</table>\n",
       "</div>"
      ],
      "text/plain": [
       "    streams\n",
       "0  0.014273\n",
       "1  0.012515\n",
       "2  0.011021"
      ]
     },
     "metadata": {},
     "output_type": "display_data"
    },
    {
     "data": {
      "text/html": [
       "<div>\n",
       "<style scoped>\n",
       "    .dataframe tbody tr th:only-of-type {\n",
       "        vertical-align: middle;\n",
       "    }\n",
       "\n",
       "    .dataframe tbody tr th {\n",
       "        vertical-align: top;\n",
       "    }\n",
       "\n",
       "    .dataframe thead th {\n",
       "        text-align: right;\n",
       "    }\n",
       "</style>\n",
       "<table border=\"1\" class=\"dataframe\">\n",
       "  <thead>\n",
       "    <tr style=\"text-align: right;\">\n",
       "      <th></th>\n",
       "      <th>title</th>\n",
       "      <th>rank</th>\n",
       "      <th>date</th>\n",
       "      <th>artist</th>\n",
       "      <th>track_id</th>\n",
       "      <th>region</th>\n",
       "      <th>trend</th>\n",
       "    </tr>\n",
       "  </thead>\n",
       "  <tbody>\n",
       "    <tr>\n",
       "      <th>0</th>\n",
       "      <td>Closer</td>\n",
       "      <td>1</td>\n",
       "      <td>2017-01-01</td>\n",
       "      <td>The Chainsmokers, Halsey</td>\n",
       "      <td>7BKLCZ1jbUBVqRi2FVlTVw</td>\n",
       "      <td>Japan</td>\n",
       "      <td>SAME_POSITION</td>\n",
       "    </tr>\n",
       "    <tr>\n",
       "      <th>1</th>\n",
       "      <td>I Feel It Coming</td>\n",
       "      <td>2</td>\n",
       "      <td>2017-01-01</td>\n",
       "      <td>The Weeknd, Daft Punk</td>\n",
       "      <td>5GXAXm5YOmYT0kL5jHvYBt</td>\n",
       "      <td>Japan</td>\n",
       "      <td>MOVE_UP</td>\n",
       "    </tr>\n",
       "    <tr>\n",
       "      <th>2</th>\n",
       "      <td>Let Me Love You</td>\n",
       "      <td>3</td>\n",
       "      <td>2017-01-01</td>\n",
       "      <td>DJ Snake, Justin Bieber</td>\n",
       "      <td>4pdPtRcBmOSQDlJ3Fk945m</td>\n",
       "      <td>Japan</td>\n",
       "      <td>MOVE_DOWN</td>\n",
       "    </tr>\n",
       "  </tbody>\n",
       "</table>\n",
       "</div>"
      ],
      "text/plain": [
       "              title  rank        date                    artist  \\\n",
       "0            Closer     1  2017-01-01  The Chainsmokers, Halsey   \n",
       "1  I Feel It Coming     2  2017-01-01     The Weeknd, Daft Punk   \n",
       "2   Let Me Love You     3  2017-01-01   DJ Snake, Justin Bieber   \n",
       "\n",
       "                 track_id region          trend  \n",
       "0  7BKLCZ1jbUBVqRi2FVlTVw  Japan  SAME_POSITION  \n",
       "1  5GXAXm5YOmYT0kL5jHvYBt  Japan        MOVE_UP  \n",
       "2  4pdPtRcBmOSQDlJ3Fk945m  Japan      MOVE_DOWN  "
      ]
     },
     "metadata": {},
     "output_type": "display_data"
    }
   ],
   "source": [
    "# check the dataframe\n",
    "display(scaled_t100.head(3), top100_jp_rest.head(3))"
   ]
  },
  {
   "cell_type": "code",
   "execution_count": 15,
   "metadata": {},
   "outputs": [],
   "source": [
    "# reset the index for the Top100\n",
    "top20_jp_rest.reset_index(drop=True, inplace=True)"
   ]
  },
  {
   "cell_type": "code",
   "execution_count": 16,
   "metadata": {},
   "outputs": [
    {
     "data": {
      "text/html": [
       "<div>\n",
       "<style scoped>\n",
       "    .dataframe tbody tr th:only-of-type {\n",
       "        vertical-align: middle;\n",
       "    }\n",
       "\n",
       "    .dataframe tbody tr th {\n",
       "        vertical-align: top;\n",
       "    }\n",
       "\n",
       "    .dataframe thead th {\n",
       "        text-align: right;\n",
       "    }\n",
       "</style>\n",
       "<table border=\"1\" class=\"dataframe\">\n",
       "  <thead>\n",
       "    <tr style=\"text-align: right;\">\n",
       "      <th></th>\n",
       "      <th>streams</th>\n",
       "    </tr>\n",
       "  </thead>\n",
       "  <tbody>\n",
       "    <tr>\n",
       "      <th>0</th>\n",
       "      <td>0.008905</td>\n",
       "    </tr>\n",
       "    <tr>\n",
       "      <th>1</th>\n",
       "      <td>0.007137</td>\n",
       "    </tr>\n",
       "    <tr>\n",
       "      <th>2</th>\n",
       "      <td>0.005635</td>\n",
       "    </tr>\n",
       "  </tbody>\n",
       "</table>\n",
       "</div>"
      ],
      "text/plain": [
       "    streams\n",
       "0  0.008905\n",
       "1  0.007137\n",
       "2  0.005635"
      ]
     },
     "metadata": {},
     "output_type": "display_data"
    },
    {
     "data": {
      "text/html": [
       "<div>\n",
       "<style scoped>\n",
       "    .dataframe tbody tr th:only-of-type {\n",
       "        vertical-align: middle;\n",
       "    }\n",
       "\n",
       "    .dataframe tbody tr th {\n",
       "        vertical-align: top;\n",
       "    }\n",
       "\n",
       "    .dataframe thead th {\n",
       "        text-align: right;\n",
       "    }\n",
       "</style>\n",
       "<table border=\"1\" class=\"dataframe\">\n",
       "  <thead>\n",
       "    <tr style=\"text-align: right;\">\n",
       "      <th></th>\n",
       "      <th>title</th>\n",
       "      <th>rank</th>\n",
       "      <th>date</th>\n",
       "      <th>artist</th>\n",
       "      <th>track_id</th>\n",
       "      <th>region</th>\n",
       "      <th>trend</th>\n",
       "    </tr>\n",
       "  </thead>\n",
       "  <tbody>\n",
       "    <tr>\n",
       "      <th>0</th>\n",
       "      <td>Closer</td>\n",
       "      <td>1</td>\n",
       "      <td>2017-01-01</td>\n",
       "      <td>The Chainsmokers, Halsey</td>\n",
       "      <td>7BKLCZ1jbUBVqRi2FVlTVw</td>\n",
       "      <td>Japan</td>\n",
       "      <td>SAME_POSITION</td>\n",
       "    </tr>\n",
       "    <tr>\n",
       "      <th>1</th>\n",
       "      <td>I Feel It Coming</td>\n",
       "      <td>2</td>\n",
       "      <td>2017-01-01</td>\n",
       "      <td>The Weeknd, Daft Punk</td>\n",
       "      <td>5GXAXm5YOmYT0kL5jHvYBt</td>\n",
       "      <td>Japan</td>\n",
       "      <td>MOVE_UP</td>\n",
       "    </tr>\n",
       "    <tr>\n",
       "      <th>2</th>\n",
       "      <td>Let Me Love You</td>\n",
       "      <td>3</td>\n",
       "      <td>2017-01-01</td>\n",
       "      <td>DJ Snake, Justin Bieber</td>\n",
       "      <td>4pdPtRcBmOSQDlJ3Fk945m</td>\n",
       "      <td>Japan</td>\n",
       "      <td>MOVE_DOWN</td>\n",
       "    </tr>\n",
       "  </tbody>\n",
       "</table>\n",
       "</div>"
      ],
      "text/plain": [
       "              title  rank        date                    artist  \\\n",
       "0            Closer     1  2017-01-01  The Chainsmokers, Halsey   \n",
       "1  I Feel It Coming     2  2017-01-01     The Weeknd, Daft Punk   \n",
       "2   Let Me Love You     3  2017-01-01   DJ Snake, Justin Bieber   \n",
       "\n",
       "                 track_id region          trend  \n",
       "0  7BKLCZ1jbUBVqRi2FVlTVw  Japan  SAME_POSITION  \n",
       "1  5GXAXm5YOmYT0kL5jHvYBt  Japan        MOVE_UP  \n",
       "2  4pdPtRcBmOSQDlJ3Fk945m  Japan      MOVE_DOWN  "
      ]
     },
     "metadata": {},
     "output_type": "display_data"
    }
   ],
   "source": [
    "# check the dataframe\n",
    "display(scaled_t20.head(3), top20_jp_rest.head(3))"
   ]
  },
  {
   "cell_type": "code",
   "execution_count": 17,
   "metadata": {},
   "outputs": [
    {
     "data": {
      "text/plain": [
       "(29155, 7)"
      ]
     },
     "metadata": {},
     "output_type": "display_data"
    },
    {
     "data": {
      "text/plain": [
       "(29155, 1)"
      ]
     },
     "metadata": {},
     "output_type": "display_data"
    },
    {
     "data": {
      "text/plain": [
       "(145790, 7)"
      ]
     },
     "metadata": {},
     "output_type": "display_data"
    },
    {
     "data": {
      "text/plain": [
       "(145790, 1)"
      ]
     },
     "metadata": {},
     "output_type": "display_data"
    }
   ],
   "source": [
    "# show row and column count\n",
    "display(top20_jp_rest.shape, scaled_t20.shape, top100_jp_rest.shape, scaled_t100.shape)"
   ]
  },
  {
   "cell_type": "code",
   "execution_count": 18,
   "metadata": {},
   "outputs": [],
   "source": [
    "# recombine the normalized data\n",
    "t20_final = pd.concat([top20_jp_rest, scaled_t20], axis=1)\n",
    "t100_final = pd.concat([top100_jp_rest, scaled_t100], axis=1)"
   ]
  },
  {
   "cell_type": "code",
   "execution_count": 19,
   "metadata": {},
   "outputs": [
    {
     "data": {
      "text/plain": [
       "(29155, 8)"
      ]
     },
     "metadata": {},
     "output_type": "display_data"
    },
    {
     "data": {
      "text/plain": [
       "(145790, 8)"
      ]
     },
     "metadata": {},
     "output_type": "display_data"
    }
   ],
   "source": [
    "# show row and column count\n",
    "display(t20_final.shape, t100_final.shape)"
   ]
  },
  {
   "cell_type": "code",
   "execution_count": 20,
   "metadata": {},
   "outputs": [
    {
     "data": {
      "text/html": [
       "<div>\n",
       "<style scoped>\n",
       "    .dataframe tbody tr th:only-of-type {\n",
       "        vertical-align: middle;\n",
       "    }\n",
       "\n",
       "    .dataframe tbody tr th {\n",
       "        vertical-align: top;\n",
       "    }\n",
       "\n",
       "    .dataframe thead th {\n",
       "        text-align: right;\n",
       "    }\n",
       "</style>\n",
       "<table border=\"1\" class=\"dataframe\">\n",
       "  <thead>\n",
       "    <tr style=\"text-align: right;\">\n",
       "      <th></th>\n",
       "      <th>title</th>\n",
       "      <th>rank</th>\n",
       "      <th>date</th>\n",
       "      <th>artist</th>\n",
       "      <th>track_id</th>\n",
       "      <th>region</th>\n",
       "      <th>trend</th>\n",
       "      <th>streams</th>\n",
       "    </tr>\n",
       "  </thead>\n",
       "  <tbody>\n",
       "    <tr>\n",
       "      <th>29152</th>\n",
       "      <td>LIKEY</td>\n",
       "      <td>18</td>\n",
       "      <td>2018-01-31</td>\n",
       "      <td>TWICE</td>\n",
       "      <td>4Eb5cLWxKQUoUQaKUYSRgI</td>\n",
       "      <td>Japan</td>\n",
       "      <td>MOVE_DOWN</td>\n",
       "      <td>0.027183</td>\n",
       "    </tr>\n",
       "    <tr>\n",
       "      <th>29153</th>\n",
       "      <td>愛唄</td>\n",
       "      <td>19</td>\n",
       "      <td>2018-01-31</td>\n",
       "      <td>GReeeeN</td>\n",
       "      <td>7iXHLtPosbHvglVSJ4rxLq</td>\n",
       "      <td>Japan</td>\n",
       "      <td>SAME_POSITION</td>\n",
       "      <td>0.026257</td>\n",
       "    </tr>\n",
       "    <tr>\n",
       "      <th>29154</th>\n",
       "      <td>君が好き</td>\n",
       "      <td>20</td>\n",
       "      <td>2018-01-31</td>\n",
       "      <td>Shota Shimizu</td>\n",
       "      <td>5Bg0HkfaRYRx8A7tMrjT9Z</td>\n",
       "      <td>Japan</td>\n",
       "      <td>MOVE_UP</td>\n",
       "      <td>0.025969</td>\n",
       "    </tr>\n",
       "  </tbody>\n",
       "</table>\n",
       "</div>"
      ],
      "text/plain": [
       "       title  rank        date         artist                track_id region  \\\n",
       "29152  LIKEY    18  2018-01-31          TWICE  4Eb5cLWxKQUoUQaKUYSRgI  Japan   \n",
       "29153     愛唄    19  2018-01-31        GReeeeN  7iXHLtPosbHvglVSJ4rxLq  Japan   \n",
       "29154   君が好き    20  2018-01-31  Shota Shimizu  5Bg0HkfaRYRx8A7tMrjT9Z  Japan   \n",
       "\n",
       "               trend   streams  \n",
       "29152      MOVE_DOWN  0.027183  \n",
       "29153  SAME_POSITION  0.026257  \n",
       "29154        MOVE_UP  0.025969  "
      ]
     },
     "metadata": {},
     "output_type": "display_data"
    },
    {
     "data": {
      "text/html": [
       "<div>\n",
       "<style scoped>\n",
       "    .dataframe tbody tr th:only-of-type {\n",
       "        vertical-align: middle;\n",
       "    }\n",
       "\n",
       "    .dataframe tbody tr th {\n",
       "        vertical-align: top;\n",
       "    }\n",
       "\n",
       "    .dataframe thead th {\n",
       "        text-align: right;\n",
       "    }\n",
       "</style>\n",
       "<table border=\"1\" class=\"dataframe\">\n",
       "  <thead>\n",
       "    <tr style=\"text-align: right;\">\n",
       "      <th></th>\n",
       "      <th>title</th>\n",
       "      <th>rank</th>\n",
       "      <th>date</th>\n",
       "      <th>artist</th>\n",
       "      <th>track_id</th>\n",
       "      <th>region</th>\n",
       "      <th>trend</th>\n",
       "      <th>streams</th>\n",
       "    </tr>\n",
       "  </thead>\n",
       "  <tbody>\n",
       "    <tr>\n",
       "      <th>145787</th>\n",
       "      <td>rockstar</td>\n",
       "      <td>98</td>\n",
       "      <td>2018-01-31</td>\n",
       "      <td>Post Malone, 21 Savage</td>\n",
       "      <td>7wGoVu4Dady5GV0Sv4UIsx</td>\n",
       "      <td>Japan</td>\n",
       "      <td>MOVE_UP</td>\n",
       "      <td>0.013431</td>\n",
       "    </tr>\n",
       "    <tr>\n",
       "      <th>145788</th>\n",
       "      <td>Thunder</td>\n",
       "      <td>99</td>\n",
       "      <td>2018-01-31</td>\n",
       "      <td>Imagine Dragons</td>\n",
       "      <td>0tKcYR2II1VCQWT79i5NrW</td>\n",
       "      <td>Japan</td>\n",
       "      <td>MOVE_DOWN</td>\n",
       "      <td>0.013387</td>\n",
       "    </tr>\n",
       "    <tr>\n",
       "      <th>145789</th>\n",
       "      <td>First Love</td>\n",
       "      <td>100</td>\n",
       "      <td>2018-01-31</td>\n",
       "      <td>Hikaru Utada</td>\n",
       "      <td>3MmAtS5q33iKDcRvu6U5p3</td>\n",
       "      <td>Japan</td>\n",
       "      <td>MOVE_DOWN</td>\n",
       "      <td>0.013295</td>\n",
       "    </tr>\n",
       "  </tbody>\n",
       "</table>\n",
       "</div>"
      ],
      "text/plain": [
       "             title  rank        date                  artist  \\\n",
       "145787    rockstar    98  2018-01-31  Post Malone, 21 Savage   \n",
       "145788     Thunder    99  2018-01-31         Imagine Dragons   \n",
       "145789  First Love   100  2018-01-31            Hikaru Utada   \n",
       "\n",
       "                      track_id region      trend   streams  \n",
       "145787  7wGoVu4Dady5GV0Sv4UIsx  Japan    MOVE_UP  0.013431  \n",
       "145788  0tKcYR2II1VCQWT79i5NrW  Japan  MOVE_DOWN  0.013387  \n",
       "145789  3MmAtS5q33iKDcRvu6U5p3  Japan  MOVE_DOWN  0.013295  "
      ]
     },
     "metadata": {},
     "output_type": "display_data"
    }
   ],
   "source": [
    "# check the last rows of the dataframe\n",
    "display(t20_final.tail(3), t100_final.tail(3))"
   ]
  },
  {
   "cell_type": "code",
   "execution_count": 21,
   "metadata": {},
   "outputs": [
    {
     "data": {
      "text/plain": [
       "PosixPath('/Users/inthesea/Downloads/Top100_Japan_normalized.csv')"
      ]
     },
     "execution_count": 21,
     "metadata": {},
     "output_type": "execute_result"
    }
   ],
   "source": [
    "# export the normalized data to csv\n",
    "save_to_csv(t20_final,'Top20_Japan_normalized')\n",
    "save_to_csv(t100_final,'Top100_Japan_normalized')"
   ]
  }
 ],
 "metadata": {
  "kernelspec": {
   "display_name": "nf_sql",
   "language": "python",
   "name": "python3"
  },
  "language_info": {
   "codemirror_mode": {
    "name": "ipython",
    "version": 3
   },
   "file_extension": ".py",
   "mimetype": "text/x-python",
   "name": "python",
   "nbconvert_exporter": "python",
   "pygments_lexer": "ipython3",
   "version": "3.9.17"
  }
 },
 "nbformat": 4,
 "nbformat_minor": 2
}
