{
 "cells": [
  {
   "cell_type": "code",
   "execution_count": 1,
   "metadata": {},
   "outputs": [],
   "source": [
    "import pandas as pd\n",
    "from functions import *"
   ]
  },
  {
   "cell_type": "code",
   "execution_count": 2,
   "metadata": {},
   "outputs": [],
   "source": [
    "# read in unique songs and Top100 daily charts of 8 countries\n",
    "so = pd.read_csv('data/18k_complete.csv', header=0, index_col=False)\n",
    "df = pd.read_csv('data/Top100_8_countries_forward.csv', header=0, index_col=False)"
   ]
  },
  {
   "cell_type": "code",
   "execution_count": 3,
   "metadata": {},
   "outputs": [
    {
     "data": {
      "text/html": [
       "<div>\n",
       "<style scoped>\n",
       "    .dataframe tbody tr th:only-of-type {\n",
       "        vertical-align: middle;\n",
       "    }\n",
       "\n",
       "    .dataframe tbody tr th {\n",
       "        vertical-align: top;\n",
       "    }\n",
       "\n",
       "    .dataframe thead th {\n",
       "        text-align: right;\n",
       "    }\n",
       "</style>\n",
       "<table border=\"1\" class=\"dataframe\">\n",
       "  <thead>\n",
       "    <tr style=\"text-align: right;\">\n",
       "      <th></th>\n",
       "      <th>title</th>\n",
       "      <th>artist</th>\n",
       "      <th>track_id</th>\n",
       "      <th>danceability</th>\n",
       "      <th>energy</th>\n",
       "      <th>key</th>\n",
       "      <th>loudness</th>\n",
       "      <th>mode</th>\n",
       "      <th>speechiness</th>\n",
       "      <th>acousticness</th>\n",
       "      <th>instrumentalness</th>\n",
       "      <th>liveness</th>\n",
       "      <th>valence</th>\n",
       "      <th>tempo</th>\n",
       "      <th>duration_ms</th>\n",
       "      <th>popularity</th>\n",
       "      <th>album_name</th>\n",
       "      <th>album_release_date</th>\n",
       "    </tr>\n",
       "  </thead>\n",
       "  <tbody>\n",
       "    <tr>\n",
       "      <th>0</th>\n",
       "      <td>Starboy</td>\n",
       "      <td>The Weeknd, Daft Punk</td>\n",
       "      <td>5aAx2yezTd8zXrkmtKl66Z</td>\n",
       "      <td>0.681</td>\n",
       "      <td>0.594</td>\n",
       "      <td>7</td>\n",
       "      <td>-7.028</td>\n",
       "      <td>1</td>\n",
       "      <td>0.2820</td>\n",
       "      <td>0.165</td>\n",
       "      <td>0.000003</td>\n",
       "      <td>0.134</td>\n",
       "      <td>0.535</td>\n",
       "      <td>186.054</td>\n",
       "      <td>230453</td>\n",
       "      <td>28</td>\n",
       "      <td>Starboy</td>\n",
       "      <td>2016-11-25</td>\n",
       "    </tr>\n",
       "    <tr>\n",
       "      <th>1</th>\n",
       "      <td>Rockabye (feat. Sean Paul &amp; Anne-Marie)</td>\n",
       "      <td>Clean Bandit</td>\n",
       "      <td>5knuzwU65gJK7IF5yJsuaW</td>\n",
       "      <td>0.720</td>\n",
       "      <td>0.763</td>\n",
       "      <td>9</td>\n",
       "      <td>-4.068</td>\n",
       "      <td>0</td>\n",
       "      <td>0.0523</td>\n",
       "      <td>0.406</td>\n",
       "      <td>0.000000</td>\n",
       "      <td>0.180</td>\n",
       "      <td>0.742</td>\n",
       "      <td>101.965</td>\n",
       "      <td>251088</td>\n",
       "      <td>77</td>\n",
       "      <td>Rockabye (feat. Sean Paul &amp; Anne-Marie)</td>\n",
       "      <td>2016-10-21</td>\n",
       "    </tr>\n",
       "    <tr>\n",
       "      <th>2</th>\n",
       "      <td>Closer</td>\n",
       "      <td>The Chainsmokers, Halsey</td>\n",
       "      <td>7BKLCZ1jbUBVqRi2FVlTVw</td>\n",
       "      <td>0.748</td>\n",
       "      <td>0.524</td>\n",
       "      <td>8</td>\n",
       "      <td>-5.599</td>\n",
       "      <td>1</td>\n",
       "      <td>0.0338</td>\n",
       "      <td>0.414</td>\n",
       "      <td>0.000000</td>\n",
       "      <td>0.111</td>\n",
       "      <td>0.661</td>\n",
       "      <td>95.010</td>\n",
       "      <td>244960</td>\n",
       "      <td>86</td>\n",
       "      <td>Closer</td>\n",
       "      <td>2016-07-29</td>\n",
       "    </tr>\n",
       "  </tbody>\n",
       "</table>\n",
       "</div>"
      ],
      "text/plain": [
       "                                     title                    artist  \\\n",
       "0                                  Starboy     The Weeknd, Daft Punk   \n",
       "1  Rockabye (feat. Sean Paul & Anne-Marie)              Clean Bandit   \n",
       "2                                   Closer  The Chainsmokers, Halsey   \n",
       "\n",
       "                 track_id  danceability  energy  key  loudness  mode  \\\n",
       "0  5aAx2yezTd8zXrkmtKl66Z         0.681   0.594    7    -7.028     1   \n",
       "1  5knuzwU65gJK7IF5yJsuaW         0.720   0.763    9    -4.068     0   \n",
       "2  7BKLCZ1jbUBVqRi2FVlTVw         0.748   0.524    8    -5.599     1   \n",
       "\n",
       "   speechiness  acousticness  instrumentalness  liveness  valence    tempo  \\\n",
       "0       0.2820         0.165          0.000003     0.134    0.535  186.054   \n",
       "1       0.0523         0.406          0.000000     0.180    0.742  101.965   \n",
       "2       0.0338         0.414          0.000000     0.111    0.661   95.010   \n",
       "\n",
       "   duration_ms  popularity                               album_name  \\\n",
       "0       230453          28                                  Starboy   \n",
       "1       251088          77  Rockabye (feat. Sean Paul & Anne-Marie)   \n",
       "2       244960          86                                   Closer   \n",
       "\n",
       "  album_release_date  \n",
       "0         2016-11-25  \n",
       "1         2016-10-21  \n",
       "2         2016-07-29  "
      ]
     },
     "execution_count": 3,
     "metadata": {},
     "output_type": "execute_result"
    }
   ],
   "source": [
    "# show the top rows of the unique songs dataframe\n",
    "so.head(3)"
   ]
  },
  {
   "cell_type": "code",
   "execution_count": 4,
   "metadata": {},
   "outputs": [
    {
     "data": {
      "text/plain": [
       "(18710, 18)"
      ]
     },
     "execution_count": 4,
     "metadata": {},
     "output_type": "execute_result"
    }
   ],
   "source": [
    "# show the count of rows and columns \n",
    "so.shape"
   ]
  },
  {
   "cell_type": "code",
   "execution_count": 5,
   "metadata": {},
   "outputs": [],
   "source": [
    "# select all songs with the audio features range of the cluster 3 (from machine learning 4 year backtest)\n",
    "c7 = so.query('speechiness >= 0.0249 and speechiness <= 0.186 and valence >= 0.1 and valence <= 0.745 and danceability >= 0.284 and danceability <= 0.734 and energy >= 0.402 and energy <= 0.979').copy()\n",
    "#3\tMax. Danceability\t0,734\n",
    "#3\tMin. Danceability\t0,284\n",
    "#3\tMin. Energy\t0,402\n",
    "#3\tMax. Energy\t0,979\n",
    "#3\tMin. Speechiness\t0,0249\n",
    "#3\tMax. Speechiness\t0,186\n",
    "#3\tMin. Valence\t0,1\n",
    "#3\tMax. Valence\t0,745"
   ]
  },
  {
   "cell_type": "code",
   "execution_count": 6,
   "metadata": {},
   "outputs": [
    {
     "data": {
      "text/plain": [
       "(6662, 18)"
      ]
     },
     "execution_count": 6,
     "metadata": {},
     "output_type": "execute_result"
    }
   ],
   "source": [
    "# show the count of the rows and columns\n",
    "c7.shape"
   ]
  },
  {
   "cell_type": "code",
   "execution_count": 7,
   "metadata": {},
   "outputs": [],
   "source": [
    "# remove unneeded columns\n",
    "c7.drop(['title', 'artist', 'danceability', 'energy', 'key', 'loudness', 'mode', 'speechiness', 'acousticness', 'instrumentalness', 'liveness', 'valence', 'tempo', 'duration_ms', 'popularity', 'album_name', 'album_release_date'], axis=1, inplace=True)"
   ]
  },
  {
   "cell_type": "code",
   "execution_count": 8,
   "metadata": {},
   "outputs": [
    {
     "data": {
      "text/html": [
       "<div>\n",
       "<style scoped>\n",
       "    .dataframe tbody tr th:only-of-type {\n",
       "        vertical-align: middle;\n",
       "    }\n",
       "\n",
       "    .dataframe tbody tr th {\n",
       "        vertical-align: top;\n",
       "    }\n",
       "\n",
       "    .dataframe thead th {\n",
       "        text-align: right;\n",
       "    }\n",
       "</style>\n",
       "<table border=\"1\" class=\"dataframe\">\n",
       "  <thead>\n",
       "    <tr style=\"text-align: right;\">\n",
       "      <th></th>\n",
       "      <th>track_id</th>\n",
       "    </tr>\n",
       "  </thead>\n",
       "  <tbody>\n",
       "    <tr>\n",
       "      <th>1</th>\n",
       "      <td>5knuzwU65gJK7IF5yJsuaW</td>\n",
       "    </tr>\n",
       "    <tr>\n",
       "      <th>4</th>\n",
       "      <td>78rIJddV4X0HkNAInEcYde</td>\n",
       "    </tr>\n",
       "    <tr>\n",
       "      <th>5</th>\n",
       "      <td>5uCax9HTNlzGybIStD3vDh</td>\n",
       "    </tr>\n",
       "  </tbody>\n",
       "</table>\n",
       "</div>"
      ],
      "text/plain": [
       "                 track_id\n",
       "1  5knuzwU65gJK7IF5yJsuaW\n",
       "4  78rIJddV4X0HkNAInEcYde\n",
       "5  5uCax9HTNlzGybIStD3vDh"
      ]
     },
     "execution_count": 8,
     "metadata": {},
     "output_type": "execute_result"
    }
   ],
   "source": [
    "# show top rows\n",
    "c7.head(3)"
   ]
  },
  {
   "cell_type": "code",
   "execution_count": 9,
   "metadata": {},
   "outputs": [],
   "source": [
    "# create 2 dataframes for the Top50 and Top100-51\n",
    "jp = df.query('region == \"Japan\" and rank <=100 and rank >=51').copy()\n",
    "jp1 = df.query('region == \"Japan\" and rank <=50').copy()"
   ]
  },
  {
   "cell_type": "code",
   "execution_count": 10,
   "metadata": {},
   "outputs": [
    {
     "data": {
      "text/plain": [
       "(16700, 8)"
      ]
     },
     "metadata": {},
     "output_type": "display_data"
    },
    {
     "data": {
      "text/plain": [
       "(16700, 8)"
      ]
     },
     "metadata": {},
     "output_type": "display_data"
    }
   ],
   "source": [
    "# show the count of the rows and columns\n",
    "display(jp.shape, jp1.shape)"
   ]
  },
  {
   "cell_type": "code",
   "execution_count": 11,
   "metadata": {},
   "outputs": [],
   "source": [
    "# merge to check fro matches\n",
    "jp_c = jp.merge(c7, how='left', on='track_id', indicator=True) \n",
    "jp_c1 = jp1.merge(c7, how='left', on='track_id', indicator=True) "
   ]
  },
  {
   "cell_type": "code",
   "execution_count": 12,
   "metadata": {},
   "outputs": [
    {
     "data": {
      "text/html": [
       "<div>\n",
       "<style scoped>\n",
       "    .dataframe tbody tr th:only-of-type {\n",
       "        vertical-align: middle;\n",
       "    }\n",
       "\n",
       "    .dataframe tbody tr th {\n",
       "        vertical-align: top;\n",
       "    }\n",
       "\n",
       "    .dataframe thead th {\n",
       "        text-align: right;\n",
       "    }\n",
       "</style>\n",
       "<table border=\"1\" class=\"dataframe\">\n",
       "  <thead>\n",
       "    <tr style=\"text-align: right;\">\n",
       "      <th></th>\n",
       "      <th>title</th>\n",
       "      <th>rank</th>\n",
       "      <th>date</th>\n",
       "      <th>artist</th>\n",
       "      <th>track_id</th>\n",
       "      <th>region</th>\n",
       "      <th>trend</th>\n",
       "      <th>streams</th>\n",
       "      <th>_merge</th>\n",
       "    </tr>\n",
       "  </thead>\n",
       "  <tbody>\n",
       "    <tr>\n",
       "      <th>0</th>\n",
       "      <td>Stay Gold</td>\n",
       "      <td>68</td>\n",
       "      <td>2021-07-01</td>\n",
       "      <td>BTS</td>\n",
       "      <td>3Ys2PYl1wyPKQIwyqhP9cQ</td>\n",
       "      <td>Japan</td>\n",
       "      <td>MOVE_DOWN</td>\n",
       "      <td>54393.0</td>\n",
       "      <td>both</td>\n",
       "    </tr>\n",
       "    <tr>\n",
       "      <th>1</th>\n",
       "      <td>CITRUS</td>\n",
       "      <td>51</td>\n",
       "      <td>2021-07-01</td>\n",
       "      <td>Da-iCE</td>\n",
       "      <td>2IL2asrtx7XM1y8fu2RMnR</td>\n",
       "      <td>Japan</td>\n",
       "      <td>SAME_POSITION</td>\n",
       "      <td>77616.0</td>\n",
       "      <td>both</td>\n",
       "    </tr>\n",
       "    <tr>\n",
       "      <th>2</th>\n",
       "      <td>Alcohol-Free</td>\n",
       "      <td>52</td>\n",
       "      <td>2021-07-01</td>\n",
       "      <td>TWICE</td>\n",
       "      <td>3iPbmpKBMflYd7UjdYftoj</td>\n",
       "      <td>Japan</td>\n",
       "      <td>SAME_POSITION</td>\n",
       "      <td>72524.0</td>\n",
       "      <td>both</td>\n",
       "    </tr>\n",
       "    <tr>\n",
       "      <th>3</th>\n",
       "      <td>YOKAZE</td>\n",
       "      <td>53</td>\n",
       "      <td>2021-07-01</td>\n",
       "      <td>HENTAI SHINSHI CLUB</td>\n",
       "      <td>6tkSMR8bEIfEcJn7ybJtSP</td>\n",
       "      <td>Japan</td>\n",
       "      <td>SAME_POSITION</td>\n",
       "      <td>72500.0</td>\n",
       "      <td>both</td>\n",
       "    </tr>\n",
       "    <tr>\n",
       "      <th>4</th>\n",
       "      <td>Buddy</td>\n",
       "      <td>54</td>\n",
       "      <td>2021-07-01</td>\n",
       "      <td>HIRAIDAI</td>\n",
       "      <td>7xfPyBgb9om8iUooItxHl8</td>\n",
       "      <td>Japan</td>\n",
       "      <td>MOVE_UP</td>\n",
       "      <td>69382.0</td>\n",
       "      <td>left_only</td>\n",
       "    </tr>\n",
       "  </tbody>\n",
       "</table>\n",
       "</div>"
      ],
      "text/plain": [
       "          title  rank        date               artist  \\\n",
       "0     Stay Gold    68  2021-07-01                  BTS   \n",
       "1        CITRUS    51  2021-07-01               Da-iCE   \n",
       "2  Alcohol-Free    52  2021-07-01                TWICE   \n",
       "3        YOKAZE    53  2021-07-01  HENTAI SHINSHI CLUB   \n",
       "4         Buddy    54  2021-07-01             HIRAIDAI   \n",
       "\n",
       "                 track_id region          trend  streams     _merge  \n",
       "0  3Ys2PYl1wyPKQIwyqhP9cQ  Japan      MOVE_DOWN  54393.0       both  \n",
       "1  2IL2asrtx7XM1y8fu2RMnR  Japan  SAME_POSITION  77616.0       both  \n",
       "2  3iPbmpKBMflYd7UjdYftoj  Japan  SAME_POSITION  72524.0       both  \n",
       "3  6tkSMR8bEIfEcJn7ybJtSP  Japan  SAME_POSITION  72500.0       both  \n",
       "4  7xfPyBgb9om8iUooItxHl8  Japan        MOVE_UP  69382.0  left_only  "
      ]
     },
     "execution_count": 12,
     "metadata": {},
     "output_type": "execute_result"
    }
   ],
   "source": [
    "# view top rows of dataframe Top100-51\n",
    "jp_c.head()"
   ]
  },
  {
   "cell_type": "code",
   "execution_count": 13,
   "metadata": {},
   "outputs": [
    {
     "data": {
      "text/html": [
       "<div>\n",
       "<style scoped>\n",
       "    .dataframe tbody tr th:only-of-type {\n",
       "        vertical-align: middle;\n",
       "    }\n",
       "\n",
       "    .dataframe tbody tr th {\n",
       "        vertical-align: top;\n",
       "    }\n",
       "\n",
       "    .dataframe thead th {\n",
       "        text-align: right;\n",
       "    }\n",
       "</style>\n",
       "<table border=\"1\" class=\"dataframe\">\n",
       "  <thead>\n",
       "    <tr style=\"text-align: right;\">\n",
       "      <th></th>\n",
       "      <th>title</th>\n",
       "      <th>rank</th>\n",
       "      <th>date</th>\n",
       "      <th>artist</th>\n",
       "      <th>track_id</th>\n",
       "      <th>region</th>\n",
       "      <th>trend</th>\n",
       "      <th>streams</th>\n",
       "      <th>_merge</th>\n",
       "    </tr>\n",
       "  </thead>\n",
       "  <tbody>\n",
       "    <tr>\n",
       "      <th>0</th>\n",
       "      <td>Butter</td>\n",
       "      <td>1</td>\n",
       "      <td>2021-07-01</td>\n",
       "      <td>BTS</td>\n",
       "      <td>2bgTY4UwhfBYhGT4HUYStN</td>\n",
       "      <td>Japan</td>\n",
       "      <td>SAME_POSITION</td>\n",
       "      <td>333102.0</td>\n",
       "      <td>left_only</td>\n",
       "    </tr>\n",
       "    <tr>\n",
       "      <th>1</th>\n",
       "      <td>Dynamite</td>\n",
       "      <td>2</td>\n",
       "      <td>2021-07-01</td>\n",
       "      <td>BTS</td>\n",
       "      <td>4saklk6nie3yiGePpBwUoc</td>\n",
       "      <td>Japan</td>\n",
       "      <td>SAME_POSITION</td>\n",
       "      <td>247180.0</td>\n",
       "      <td>left_only</td>\n",
       "    </tr>\n",
       "    <tr>\n",
       "      <th>2</th>\n",
       "      <td>ドライフラワー</td>\n",
       "      <td>3</td>\n",
       "      <td>2021-07-01</td>\n",
       "      <td>優里</td>\n",
       "      <td>7dH0dpi751EoguDDg3xx6J</td>\n",
       "      <td>Japan</td>\n",
       "      <td>SAME_POSITION</td>\n",
       "      <td>246268.0</td>\n",
       "      <td>both</td>\n",
       "    </tr>\n",
       "    <tr>\n",
       "      <th>3</th>\n",
       "      <td>夜に駆ける</td>\n",
       "      <td>4</td>\n",
       "      <td>2021-07-01</td>\n",
       "      <td>YOASOBI</td>\n",
       "      <td>6MCjmGYlw6mQVWRFVgBRvB</td>\n",
       "      <td>Japan</td>\n",
       "      <td>SAME_POSITION</td>\n",
       "      <td>211785.0</td>\n",
       "      <td>left_only</td>\n",
       "    </tr>\n",
       "    <tr>\n",
       "      <th>4</th>\n",
       "      <td>怪物</td>\n",
       "      <td>5</td>\n",
       "      <td>2021-07-01</td>\n",
       "      <td>YOASOBI</td>\n",
       "      <td>06XQvnJb53SUYmlWIhUXUi</td>\n",
       "      <td>Japan</td>\n",
       "      <td>MOVE_UP</td>\n",
       "      <td>207869.0</td>\n",
       "      <td>left_only</td>\n",
       "    </tr>\n",
       "  </tbody>\n",
       "</table>\n",
       "</div>"
      ],
      "text/plain": [
       "      title  rank        date   artist                track_id region  \\\n",
       "0    Butter     1  2021-07-01      BTS  2bgTY4UwhfBYhGT4HUYStN  Japan   \n",
       "1  Dynamite     2  2021-07-01      BTS  4saklk6nie3yiGePpBwUoc  Japan   \n",
       "2   ドライフラワー     3  2021-07-01       優里  7dH0dpi751EoguDDg3xx6J  Japan   \n",
       "3     夜に駆ける     4  2021-07-01  YOASOBI  6MCjmGYlw6mQVWRFVgBRvB  Japan   \n",
       "4        怪物     5  2021-07-01  YOASOBI  06XQvnJb53SUYmlWIhUXUi  Japan   \n",
       "\n",
       "           trend   streams     _merge  \n",
       "0  SAME_POSITION  333102.0  left_only  \n",
       "1  SAME_POSITION  247180.0  left_only  \n",
       "2  SAME_POSITION  246268.0       both  \n",
       "3  SAME_POSITION  211785.0  left_only  \n",
       "4        MOVE_UP  207869.0  left_only  "
      ]
     },
     "execution_count": 13,
     "metadata": {},
     "output_type": "execute_result"
    }
   ],
   "source": [
    "# view top rows of dataframe Top50\n",
    "jp_c1.head()"
   ]
  },
  {
   "cell_type": "code",
   "execution_count": 15,
   "metadata": {},
   "outputs": [
    {
     "data": {
      "text/plain": [
       "(16700, 9)"
      ]
     },
     "metadata": {},
     "output_type": "display_data"
    },
    {
     "data": {
      "text/plain": [
       "(16700, 9)"
      ]
     },
     "metadata": {},
     "output_type": "display_data"
    }
   ],
   "source": [
    "# show the count of the rows and columns\n",
    "display(jp_c.shape, jp_c1.shape)"
   ]
  },
  {
   "cell_type": "code",
   "execution_count": 16,
   "metadata": {},
   "outputs": [
    {
     "data": {
      "text/html": [
       "<div>\n",
       "<style scoped>\n",
       "    .dataframe tbody tr th:only-of-type {\n",
       "        vertical-align: middle;\n",
       "    }\n",
       "\n",
       "    .dataframe tbody tr th {\n",
       "        vertical-align: top;\n",
       "    }\n",
       "\n",
       "    .dataframe thead th {\n",
       "        text-align: right;\n",
       "    }\n",
       "</style>\n",
       "<table border=\"1\" class=\"dataframe\">\n",
       "  <thead>\n",
       "    <tr style=\"text-align: right;\">\n",
       "      <th></th>\n",
       "      <th>title</th>\n",
       "      <th>rank</th>\n",
       "      <th>date</th>\n",
       "      <th>artist</th>\n",
       "      <th>track_id</th>\n",
       "      <th>region</th>\n",
       "      <th>trend</th>\n",
       "      <th>streams</th>\n",
       "    </tr>\n",
       "    <tr>\n",
       "      <th>_merge</th>\n",
       "      <th></th>\n",
       "      <th></th>\n",
       "      <th></th>\n",
       "      <th></th>\n",
       "      <th></th>\n",
       "      <th></th>\n",
       "      <th></th>\n",
       "      <th></th>\n",
       "    </tr>\n",
       "  </thead>\n",
       "  <tbody>\n",
       "    <tr>\n",
       "      <th>left_only</th>\n",
       "      <td>6386</td>\n",
       "      <td>6386</td>\n",
       "      <td>6386</td>\n",
       "      <td>6386</td>\n",
       "      <td>6386</td>\n",
       "      <td>6386</td>\n",
       "      <td>6386</td>\n",
       "      <td>6386</td>\n",
       "    </tr>\n",
       "    <tr>\n",
       "      <th>right_only</th>\n",
       "      <td>0</td>\n",
       "      <td>0</td>\n",
       "      <td>0</td>\n",
       "      <td>0</td>\n",
       "      <td>0</td>\n",
       "      <td>0</td>\n",
       "      <td>0</td>\n",
       "      <td>0</td>\n",
       "    </tr>\n",
       "    <tr>\n",
       "      <th>both</th>\n",
       "      <td>10314</td>\n",
       "      <td>10314</td>\n",
       "      <td>10314</td>\n",
       "      <td>10314</td>\n",
       "      <td>10314</td>\n",
       "      <td>10314</td>\n",
       "      <td>10314</td>\n",
       "      <td>10314</td>\n",
       "    </tr>\n",
       "  </tbody>\n",
       "</table>\n",
       "</div>"
      ],
      "text/plain": [
       "            title   rank   date  artist  track_id  region  trend  streams\n",
       "_merge                                                                   \n",
       "left_only    6386   6386   6386    6386      6386    6386   6386     6386\n",
       "right_only      0      0      0       0         0       0      0        0\n",
       "both        10314  10314  10314   10314     10314   10314  10314    10314"
      ]
     },
     "execution_count": 16,
     "metadata": {},
     "output_type": "execute_result"
    }
   ],
   "source": [
    "# view count of merge results/matches Top100-51\n",
    "jp_c.groupby('_merge').count()"
   ]
  },
  {
   "cell_type": "code",
   "execution_count": 17,
   "metadata": {},
   "outputs": [
    {
     "data": {
      "text/html": [
       "<div>\n",
       "<style scoped>\n",
       "    .dataframe tbody tr th:only-of-type {\n",
       "        vertical-align: middle;\n",
       "    }\n",
       "\n",
       "    .dataframe tbody tr th {\n",
       "        vertical-align: top;\n",
       "    }\n",
       "\n",
       "    .dataframe thead th {\n",
       "        text-align: right;\n",
       "    }\n",
       "</style>\n",
       "<table border=\"1\" class=\"dataframe\">\n",
       "  <thead>\n",
       "    <tr style=\"text-align: right;\">\n",
       "      <th></th>\n",
       "      <th>title</th>\n",
       "      <th>rank</th>\n",
       "      <th>date</th>\n",
       "      <th>artist</th>\n",
       "      <th>track_id</th>\n",
       "      <th>region</th>\n",
       "      <th>trend</th>\n",
       "      <th>streams</th>\n",
       "    </tr>\n",
       "    <tr>\n",
       "      <th>_merge</th>\n",
       "      <th></th>\n",
       "      <th></th>\n",
       "      <th></th>\n",
       "      <th></th>\n",
       "      <th></th>\n",
       "      <th></th>\n",
       "      <th></th>\n",
       "      <th></th>\n",
       "    </tr>\n",
       "  </thead>\n",
       "  <tbody>\n",
       "    <tr>\n",
       "      <th>left_only</th>\n",
       "      <td>5687</td>\n",
       "      <td>5687</td>\n",
       "      <td>5687</td>\n",
       "      <td>5687</td>\n",
       "      <td>5687</td>\n",
       "      <td>5687</td>\n",
       "      <td>5687</td>\n",
       "      <td>5687</td>\n",
       "    </tr>\n",
       "    <tr>\n",
       "      <th>right_only</th>\n",
       "      <td>0</td>\n",
       "      <td>0</td>\n",
       "      <td>0</td>\n",
       "      <td>0</td>\n",
       "      <td>0</td>\n",
       "      <td>0</td>\n",
       "      <td>0</td>\n",
       "      <td>0</td>\n",
       "    </tr>\n",
       "    <tr>\n",
       "      <th>both</th>\n",
       "      <td>11013</td>\n",
       "      <td>11013</td>\n",
       "      <td>11013</td>\n",
       "      <td>11013</td>\n",
       "      <td>11013</td>\n",
       "      <td>11013</td>\n",
       "      <td>11013</td>\n",
       "      <td>11013</td>\n",
       "    </tr>\n",
       "  </tbody>\n",
       "</table>\n",
       "</div>"
      ],
      "text/plain": [
       "            title   rank   date  artist  track_id  region  trend  streams\n",
       "_merge                                                                   \n",
       "left_only    5687   5687   5687    5687      5687    5687   5687     5687\n",
       "right_only      0      0      0       0         0       0      0        0\n",
       "both        11013  11013  11013   11013     11013   11013  11013    11013"
      ]
     },
     "execution_count": 17,
     "metadata": {},
     "output_type": "execute_result"
    }
   ],
   "source": [
    "# view count of merge results/matches Top50\n",
    "jp_c1.groupby('_merge').count()"
   ]
  },
  {
   "cell_type": "code",
   "execution_count": 21,
   "metadata": {},
   "outputs": [],
   "source": [
    "# save results in a dataframe Top100-51\n",
    "jp_cb = jp_c.query('_merge == \"both\"')\n",
    "jp_clo = jp_c.query('_merge == \"left_only\"')"
   ]
  },
  {
   "cell_type": "code",
   "execution_count": 22,
   "metadata": {},
   "outputs": [
    {
     "data": {
      "text/plain": [
       "(10314, 9)"
      ]
     },
     "metadata": {},
     "output_type": "display_data"
    },
    {
     "data": {
      "text/plain": [
       "(6386, 9)"
      ]
     },
     "metadata": {},
     "output_type": "display_data"
    }
   ],
   "source": [
    "# show the count of the rows and columns\n",
    "display(jp_cb.shape, jp_clo.shape)"
   ]
  },
  {
   "cell_type": "code",
   "execution_count": 23,
   "metadata": {},
   "outputs": [],
   "source": [
    "# save results in a dataframe Top50\n",
    "jp_cb1 = jp_c1.query('_merge == \"both\"')\n",
    "jp_clo1 = jp_c1.query('_merge == \"left_only\"')"
   ]
  },
  {
   "cell_type": "code",
   "execution_count": 24,
   "metadata": {},
   "outputs": [
    {
     "data": {
      "text/plain": [
       "(11013, 9)"
      ]
     },
     "metadata": {},
     "output_type": "display_data"
    },
    {
     "data": {
      "text/plain": [
       "(5687, 9)"
      ]
     },
     "metadata": {},
     "output_type": "display_data"
    }
   ],
   "source": [
    "# show the count of the rows and columns\n",
    "display(jp_cb1.shape, jp_clo1.shape)"
   ]
  }
 ],
 "metadata": {
  "kernelspec": {
   "display_name": "nf_sql",
   "language": "python",
   "name": "python3"
  },
  "language_info": {
   "codemirror_mode": {
    "name": "ipython",
    "version": 3
   },
   "file_extension": ".py",
   "mimetype": "text/x-python",
   "name": "python",
   "nbconvert_exporter": "python",
   "pygments_lexer": "ipython3",
   "version": "3.9.17"
  }
 },
 "nbformat": 4,
 "nbformat_minor": 2
}
